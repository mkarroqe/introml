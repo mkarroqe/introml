{
 "cells": [
  {
   "cell_type": "markdown",
   "metadata": {},
   "source": [
    "# Problems: LASSO and Model Selection\n",
    "### 1. *Exhaustive search.* \n",
    "    \n",
    "In this problem, we will look at how to exhaustively search over all possible subsets of features. You are given three python functions:\n",
    "\n",
    "```python\n",
    "model = LinearRegression() # Create a linear regression model object\n",
    "model.fit(X,y) # Fits the model\n",
    "yhat = model.predict(X) # Predicts targets given features\n",
    "```\n",
    "Given training data `Xtr,ytr` and test data `Xts,yts`, write a few lines of python code to:"
   ]
  },
  {
   "cell_type": "markdown",
   "metadata": {},
   "source": [
    "**Part A**\n",
    "- Find the best model using only one feature of the data (i.e. one column of `Xtr` and `Xts`).\n",
    "\n",
    "```python\n",
    "p = X.shape[1] \n",
    "for i in range(p):\n",
    "    # training data fit\n",
    "    model = LinearRegression ()\n",
    "    model.fit(Xtr[:,i])\n",
    "    \n",
    "    yhat = model.predict(Xts[:,i])\n",
    "    mse[i] = np.mean ((yhat−yts)∗∗2)\n",
    "    iopt = np.argmin(mse)\n",
    "```"
   ]
  },
  {
   "cell_type": "markdown",
   "metadata": {},
   "source": [
    "**Part B**\n",
    "- Find the best model using only two features of the data (i.e. two columns of Xtr and Xts).\n",
    "\n",
    "```python\n",
    "p = X.shape[1] \n",
    "feat_set_list = []\n",
    "mse = [] # per set\n",
    "\n",
    "for i in range(p − 1):\n",
    "    for j in range(i, p):\n",
    "        feats = [i, j]\n",
    "        feat_set_list.append(feats)\n",
    "        \n",
    "        model = LinearRegression()\n",
    "        model.fit(Xtr[:, feats])\n",
    "        \n",
    "        yhat = model.predict(Xts[:, feats])\n",
    "        mse.append(np.mean((yhat−yts)∗∗2))\n",
    "        \n",
    "    opt = np.argmin(mse)\n",
    "    feats_opt = feats[opt]\n",
    "```"
   ]
  },
  {
   "cell_type": "markdown",
   "metadata": {},
   "source": [
    "**Part C**\n",
    "- Suppose we wish to find the best `k` of `p` features via exhaustive searching over all possible subsets of features. How many times would you need to call the fit function? What if `k = 10` and `p = 1000`?\n",
    "\n",
    "The fit function would need to be called on all possible subsets of 10 features, which would be a search of p choose k subsets. If p = 1000 and k = 10, this would equal approximately 2.63(10)^23, which makes exhaustive search a poor choice here."
   ]
  },
  {
   "cell_type": "code",
   "execution_count": null,
   "metadata": {
    "collapsed": true
   },
   "outputs": [],
   "source": []
  },
  {
   "cell_type": "markdown",
   "metadata": {},
   "source": [
    "### 4. Normalization in Python\n",
    "You are given the python functions:\n",
    "```python\n",
    "model = SomeModel () # Creates a model\n",
    "model.fit(Z,u) # Fits the model , expecting normalized features\n",
    "yhat = model.predict(Z) # Predicts targets given features\n",
    "```"
   ]
  },
  {
   "cell_type": "markdown",
   "metadata": {},
   "source": [
    "Given training data `Xtr,ytr` and test data `Xts,yts`, write python code to:\n",
    "\n",
    "- Normalize the training data to remove the mean and standard deviation from both Xtr\n",
    "and ytr.\n",
    "- Fit the model on the normalized data.\n",
    "- Predict the values yhat on the test data.\n",
    "- Measure the RSS on the test data."
   ]
  },
  {
   "cell_type": "markdown",
   "metadata": {},
   "source": [
    "```python\n",
    "xstd = np.std(Xtr, axis = 0)\n",
    "xmean = np.mean(Xtr, axis = 0)\n",
    "Ztr = (Xtr − xmean[:, None ]) / xstd[:, None)\n",
    "ystd = np.std(y)\n",
    "ymean = np.mean(y)\n",
    "u = (y − ymean)/ ystd\n",
    "model = SomeModel ()\n",
    "model.fit(Ztr, u)\n",
    "Zts = (Xts − xmean[:, None ]) / xstd[:, None]\n",
    "uts = model.predict(Zts)\n",
    "yhat = ymean + ystd∗ustd\n",
    "rss = np.sum((yts−yhat)∗∗2)\n",
    "```"
   ]
  },
  {
   "cell_type": "code",
   "execution_count": null,
   "metadata": {
    "collapsed": true
   },
   "outputs": [],
   "source": []
  }
 ],
 "metadata": {
  "anaconda-cloud": {},
  "kernelspec": {
   "display_name": "Python [Root]",
   "language": "python",
   "name": "Python [Root]"
  },
  "language_info": {
   "codemirror_mode": {
    "name": "ipython",
    "version": 3
   },
   "file_extension": ".py",
   "mimetype": "text/x-python",
   "name": "python",
   "nbconvert_exporter": "python",
   "pygments_lexer": "ipython3",
   "version": "3.5.2"
  }
 },
 "nbformat": 4,
 "nbformat_minor": 0
}
