{
 "cells": [
  {
   "cell_type": "markdown",
   "metadata": {},
   "source": [
    "Mary Karroqe \n",
    "mk5721\n",
    "# Lab:  Source Localization for EEG\n",
    "\n",
    "EEG or [Electroencephalography](https://en.wikipedia.org/wiki/Electroencephalography) is a powerful tool for neuroscientists in understanding brain activity.  In EEG, a patient wears a headset with electrodes that measures voltages at a number of points on the scalp.  These voltages arise from ionic currents within the brain.  A common *inverse problem* is to estimate the which parts of the brain caused the measured response.  Source localization is useful in understanding which parts of the brain are involved in certain tasks.  A key challenge in this inverse problem is that the number of unknowns (possible locations in the brain) is much larger than the number of measurements.  In this lab, we will use LASSO regression on a real EEG dataset to overcome this problem and determine the brain region that is active under an auditory stimulus.\n",
    "\n",
    "In addition to the concepts in the [prostate LASSO demo](./demo_prostate.ipynb) you will learn to:\n",
    "* Represent responses of multi-channel time-series data, such as EEG, using linear models\n",
    "* Perform LASSO and Ridge regression\n",
    "* Select the regularization level via cross-validation\n",
    "* Visually compare the sparsity between the solutions\n",
    "\n",
    "We first download standard packages."
   ]
  },
  {
   "cell_type": "code",
   "execution_count": 62,
   "metadata": {
    "collapsed": true
   },
   "outputs": [],
   "source": [
    "import numpy as np\n",
    "import matplotlib.pyplot as plt\n",
    "%matplotlib inline\n",
    "import pickle\n",
    "\n",
    "from sklearn.linear_model import Lasso, Ridge, ElasticNet\n",
    "from sklearn.metrics import r2_score\n",
    "from sklearn.model_selection import train_test_split"
   ]
  },
  {
   "cell_type": "markdown",
   "metadata": {},
   "source": [
    "## Load the Data\n",
    "\n",
    "The data in this lab is taken from one of the sample datasets in the [MNE website](https://martinos.org/mne/stable/index.html). The sample data is a recording from one subject who experienced some auditory stimulus on the left ear.    \n",
    "\n",
    "The raw data is very large (`1.5G`) and also requires that you install the `mne` python package. To make this lab easier, I have extracted and processed a small section of the data. The following command will download a `pickle` file `eeg_dat.p` to your local machine.  If you do want to create the data yourself, the program to create the data is in this directory in the github repository."
   ]
  },
  {
   "cell_type": "code",
   "execution_count": 63,
   "metadata": {
    "collapsed": false
   },
   "outputs": [
    {
     "name": "stdout",
     "output_type": "stream",
     "text": [
      "File eeg_dat.p is already downloaded\n"
     ]
    }
   ],
   "source": [
    "fn_src ='https://drive.google.com/uc?export=download&id=1RzQpKONOcXSMxH2ZzOI4iVMiTgD6ttSl'\n",
    "fn_dst ='eeg_dat.p'\n",
    "\n",
    "import os\n",
    "from six.moves import urllib\n",
    "\n",
    "if os.path.isfile(fn_dst):\n",
    "    print('File %s is already downloaded' % fn_dst)\n",
    "else:        \n",
    "    print('Fetching file %s [53MB].  This may take a minute..' % fn_dst)\n",
    "    urllib.request.urlretrieve(fn_src, fn_dst)\n",
    "    print('File %s downloaded' % fn_dst)"
   ]
  },
  {
   "cell_type": "markdown",
   "metadata": {},
   "source": [
    "Now run the following command which will get the data from the `pickle` file."
   ]
  },
  {
   "cell_type": "code",
   "execution_count": 64,
   "metadata": {
    "collapsed": true
   },
   "outputs": [],
   "source": [
    "import pickle\n",
    "fn = 'eeg_dat.p'\n",
    "with open(fn, 'rb') as fp:\n",
    "    [X,Y] = pickle.load(fp)"
   ]
  },
  {
   "cell_type": "markdown",
   "metadata": {},
   "source": [
    "To understand the data, there are three key variables:\n",
    "* `nt`    = number of time steps that we measure data\n",
    "* `nchan` = number of channels (i.e. electrodes) measured in each time step\n",
    "* `ncur`  = number of currents in the brain that we want to estimate.  \n",
    "\n",
    "Each current comes from one brain region (called a *voxel*) in either the `x`, `y` or `z` direction.  So,\n",
    "\n",
    "    nvoxels = ncur / 3\n",
    "    \n",
    "The components of the `X` and `Y` matrices are:\n",
    "*  `Y[i,k]` = electric field measurement on channel `i` at time `k`\n",
    "*  `X[i,j]` = sensitivity of channel `i` to current `j`.\n",
    "\n",
    "Using `X.shape` and `Y.shape` compute and print `nt`, `nchan`, `ncur` and `nvoxels`."
   ]
  },
  {
   "cell_type": "code",
   "execution_count": 65,
   "metadata": {
    "collapsed": false
   },
   "outputs": [
    {
     "name": "stdout",
     "output_type": "stream",
     "text": [
      "Num channels: 305\n",
      "Num time steps: 85\n",
      "Num currents: 22494\n",
      "Num voxels: 7498\n"
     ]
    }
   ],
   "source": [
    "[nchan, nt] = Y.shape\n",
    "ncur = X.shape[1]\n",
    "nvoxels = ncur / 3\n",
    "\n",
    "print(\"Num channels:\", str(nchan))\n",
    "print(\"Num time steps:\", str(nt))\n",
    "print(\"Num currents:\", str(ncur))\n",
    "print(\"Num voxels:\", str(int(nvoxels)))"
   ]
  },
  {
   "cell_type": "markdown",
   "metadata": {},
   "source": [
    "## Ridge Regression\n",
    "\n",
    "Our goal is to estimate the currents in the brain from the measurements `Y`.  One simple linear model is:\n",
    "\n",
    "    Y[i,k]  = \\sum_j X[i,j]*W[j,k]+ b[k]\n",
    "\n",
    "where `W[j,k]` is the value of current `j` at time `k` and `b[k]` is a bias.  We can solve for the current matrix `W` via linear regression.  \n",
    "\n",
    "Howeever, there is a problem:\n",
    "*  There are `nt x ncur` unknowns in `W`\n",
    "*  There are only `nt x nchan` measurements in `Y`.\n",
    "\n",
    "In this problem, we have:\n",
    "\n",
    "    number of measurements  << number of unknowns\n",
    "    \n",
    "We need to use regularization in these circumstances.  We first try Ridge regression.\n",
    "\n",
    "First split the data into training and test.  Use the `train_test_split` function with `test_size=0.33`."
   ]
  },
  {
   "cell_type": "code",
   "execution_count": 66,
   "metadata": {
    "collapsed": false
   },
   "outputs": [],
   "source": [
    "Xtr, Xts, Ytr, Yts = train_test_split(X, Y, test_size = 0.33, random_state = 42) "
   ]
  },
  {
   "cell_type": "markdown",
   "metadata": {},
   "source": [
    "Use the `Ridge` regression object in `sklearn` to fit the model on the training data.  Use a regularization, `alpha=1`."
   ]
  },
  {
   "cell_type": "code",
   "execution_count": 67,
   "metadata": {
    "collapsed": false
   },
   "outputs": [
    {
     "data": {
      "text/plain": [
       "Ridge(alpha=1, copy_X=True, fit_intercept=True, max_iter=None, normalize=False,\n",
       "      random_state=None, solver='auto', tol=0.001)"
      ]
     },
     "execution_count": 67,
     "metadata": {},
     "output_type": "execute_result"
    }
   ],
   "source": [
    "regr = Ridge(alpha = 1)\n",
    "regr.fit(Xtr, Ytr)"
   ]
  },
  {
   "cell_type": "markdown",
   "metadata": {},
   "source": [
    "Preict the values `Y` on both the training and test data.  Use the `r2_score` method to measure the `R^2` value on both the training and test.  You will see that `R^2` value is large for the training data, it is very low for the test data.  This suggest that even with regularization, the model is over-fitting the data."
   ]
  },
  {
   "cell_type": "code",
   "execution_count": 68,
   "metadata": {
    "collapsed": false
   },
   "outputs": [
    {
     "name": "stdout",
     "output_type": "stream",
     "text": [
      "R^2 training data: 0.611241472797345\n",
      "R^2 test data: 0.16178005546578214\n"
     ]
    }
   ],
   "source": [
    "Ytr_p = regr.predict(Xtr)\n",
    "Yts_p = regr.predict(Xts)\n",
    "\n",
    "rsq_tr = r2_score(Ytr, Ytr_p)\n",
    "rsq_ts = r2_score(Yts, Yts_p)\n",
    "print(\"R^2 training data:\", str(rsq_tr))\n",
    "print(\"R^2 test data:\", str(rsq_ts))"
   ]
  },
  {
   "cell_type": "markdown",
   "metadata": {},
   "source": [
    "Next, try to see if we can get a better `R^2` score using different values of `alpha`.  Use cross-validation to measure the test `R^2` for 20 `alpha` values logarithmically spaced from `10^{-2}` to `10^{2}` (use `np.logspace()`).  You can use regular cross-validation.  You do not need to do `K`-fold."
   ]
  },
  {
   "cell_type": "code",
   "execution_count": 69,
   "metadata": {
    "collapsed": true
   },
   "outputs": [],
   "source": [
    "Alpha = np.logspace(-2, 2, 20)\n",
    "Rsq_test = []\n",
    "for a in Alpha:\n",
    "    regr = Ridge(alpha = a)\n",
    "    regr.fit(Xtr, Ytr)\n",
    "    \n",
    "    rsq_ts = r2_score(Yts, regr.predict(Xts))\n",
    "    Rsq_test.append(rsq_ts)"
   ]
  },
  {
   "cell_type": "markdown",
   "metadata": {},
   "source": [
    "Plot the test `R^2` vs. `alpha`.  And print the maximum test `R^2`.  You should see that the maximum test `R^2` is still not very high."
   ]
  },
  {
   "cell_type": "code",
   "execution_count": 70,
   "metadata": {
    "collapsed": false
   },
   "outputs": [
    {
     "name": "stdout",
     "output_type": "stream",
     "text": [
      "The max test rsq value is 0.1782807390724237\n"
     ]
    },
    {
     "data": {
      "image/png": "[encoded data removed]",
      "text/plain": [
       "<matplotlib.figure.Figure at 0x12f1bab38>"
      ]
     },
     "metadata": {},
     "output_type": "display_data"
    }
   ],
   "source": [
    "plt.plot(Alpha, Rsq_test, \"co-\")\n",
    "plt.xlabel(\"alpha value\")\n",
    "plt.ylabel(\"R^2\")\n",
    "plt.title(\"Alpha v. R^2\")\n",
    "plt.ylim(0, 0.2)\n",
    "plt.grid()\n",
    "plt.xscale(\"log\")\n",
    "\n",
    "R2max = aRsq_ts[np.argmax(aRsq_ts)]\n",
    "print(\"The max test rsq value is\", str(R2max))"
   ]
  },
  {
   "cell_type": "markdown",
   "metadata": {},
   "source": [
    "Now, let's take a look at the solution. \n",
    "\n",
    "* Find the optimal regularization `alpha` from the cross-validation\n",
    "* Re-fit the model at the optimal `alpha`\n",
    "* Get the current matrix `W` from the coefficients in the linear model.  These are stored in `regr.coef_`.  You may need a transpose\n",
    "* For each current `j` compute `Wrms[j] =  sqrt( sum_k W[j,k]**2 )` which is root mean squared current.\n",
    "\n",
    "You will see that the vector `Wrms` is not sparse.  This means that the solution that is found with Ridge regression finds currents in all locations."
   ]
  },
  {
   "cell_type": "code",
   "execution_count": 71,
   "metadata": {
    "collapsed": false
   },
   "outputs": [
    {
     "name": "stdout",
     "output_type": "stream",
     "text": [
      "[0.00763122 0.00293241 0.00374989 0.00614302 0.00324946 0.00241802\n",
      " 0.00677658 0.00198067 0.00288646 0.00639616 0.00308748 0.00311793\n",
      " 0.005282   0.00287227 0.00223992 0.00564224 0.00284128 0.00250962\n",
      " 0.00602254 0.00260771 0.00213092 0.00627372 0.00241992 0.00271971\n",
      " 0.00642915 0.00218765 0.00260887 0.00609888 0.00199177 0.00237453\n",
      " 0.00623999 0.00194389 0.0024537  0.00650321 0.00132936 0.00325233\n",
      " 0.00672055 0.00121758 0.00293333 0.00394864 0.00266628 0.00224619\n",
      " 0.00587686 0.00231149 0.00265617 0.00589308 0.00220476 0.00214924\n",
      " 0.00627224 0.00205613 0.00290142 0.00628494 0.00190813 0.00293563\n",
      " 0.00606068 0.00163266 0.00263346 0.00564523 0.002035   0.00305664\n",
      " 0.00585373 0.00225256 0.00295823 0.00630994 0.00276274 0.00317591\n",
      " 0.00263106 0.00314509 0.00237978 0.00477579 0.00199992 0.00165998\n",
      " 0.00493565 0.00224822 0.00224418 0.00554533 0.00182953 0.00239666\n",
      " 0.00533664 0.00160768 0.0029532  0.00593178 0.00144205 0.00283242\n",
      " 0.00303536 0.00299312 0.00215769 0.00245432 0.00291131 0.00232413\n",
      " 0.00389708 0.00218226 0.00164302 0.00480357 0.0019184  0.00176708\n",
      " 0.00501664 0.00165717 0.0031253  0.00526152 0.00208089 0.00566875\n",
      " 0.00535514 0.00144955 0.00211017 0.00619011 0.00146466 0.00229562\n",
      " 0.00309699 0.00213106 0.00167505 0.00449119 0.00347389 0.00523773\n",
      " 0.00374201 0.00179893 0.00170572 0.00362489 0.00191558 0.00162769\n",
      " 0.00479701 0.00183291 0.00206111 0.00581019 0.00333731 0.00401722\n",
      " 0.0062169  0.00336029 0.0035973  0.00719295 0.00036664 0.00224338\n",
      " 0.00266596 0.00323878 0.00251098 0.00289102 0.00319503 0.00231954\n",
      " 0.00355378 0.00305175 0.00359166 0.00280941 0.00189677 0.0015899\n",
      " 0.0036308  0.00145872 0.00228011 0.00431229 0.00166568 0.00176004\n",
      " 0.0045154  0.0012511  0.00229338 0.00485479 0.00140665 0.00189528\n",
      " 0.00481069 0.001605   0.0028453  0.00511209 0.001006   0.00199796\n",
      " 0.00603719 0.00422083 0.00513621 0.00545912 0.00073663 0.00223949\n",
      " 0.00660502 0.0022066  0.0027079  0.00565012 0.00374093 0.00210011\n",
      " 0.00297375 0.00380297 0.00296606 0.00264154 0.00239345 0.00167465\n",
      " 0.00210465 0.00239377 0.00186089 0.00214396 0.00223272 0.00160892\n",
      " 0.00249842 0.00221447 0.00238314 0.00327332 0.0014525  0.00130379\n",
      " 0.00373843 0.00141761 0.00287618 0.00399717 0.00128787 0.00156576\n",
      " 0.00415266 0.00121144]\n"
     ]
    }
   ],
   "source": [
    "W = regr.coef_\n",
    "Wrms = np.sqrt(np.sum(W**2, axis = 0))\n",
    "print(Wrms[:200])"
   ]
  },
  {
   "cell_type": "markdown",
   "metadata": {},
   "source": [
    "## LASSO Regression\n",
    "\n",
    "We can improve the estimate by imposing sparsity.  Biologically, we know that only a limited number of brain regions should be involved in the reponse to a particular stimuli.  As a result, we would expect that the current matrix `W[j,k]` to be zero for most values `j,k`.  We can impose this constraint using LASSO regularization.\n",
    "\n",
    "Re-fit the training data using the `Lasso` model with `alpha=1e-3`.  Also set `max_iter=100` and `tol=0.01`.  The LASSO solver is much slower, so this make take a minute."
   ]
  },
  {
   "cell_type": "code",
   "execution_count": 72,
   "metadata": {
    "collapsed": false
   },
   "outputs": [
    {
     "data": {
      "text/plain": [
       "Lasso(alpha=0.001, copy_X=True, fit_intercept=True, max_iter=100,\n",
       "      normalize=False, positive=False, precompute=False, random_state=None,\n",
       "      selection='cyclic', tol=0.01, warm_start=False)"
      ]
     },
     "execution_count": 72,
     "metadata": {},
     "output_type": "execute_result"
    }
   ],
   "source": [
    "regr2 = Lasso(alpha = 1e-3, max_iter = 100, tol = 0.01)\n",
    "regr2.fit(Xtr, Ytr)"
   ]
  },
  {
   "cell_type": "markdown",
   "metadata": {},
   "source": [
    "Now, test the model on the test data and measure the `R^2` value.  You should get a much better fit than with the Ridge regression solution.  "
   ]
  },
  {
   "cell_type": "code",
   "execution_count": 73,
   "metadata": {
    "collapsed": false
   },
   "outputs": [
    {
     "name": "stdout",
     "output_type": "stream",
     "text": [
      "Rsq for training lasso model: 0.23702104009135902\n",
      "Rsq for test lasso model: 0.14106789104260664\n"
     ]
    }
   ],
   "source": [
    "rsq_tr = r2_score(Ytr, regr2.predict(Xtr))\n",
    "rsq_ts = r2_score(Yts, regr2.predict(Xts))\n",
    "\n",
    "print(\"Rsq for training lasso model:\", str(rsq_tr))\n",
    "print(\"Rsq for test lasso model:\", str(rsq_ts))"
   ]
  },
  {
   "cell_type": "markdown",
   "metadata": {},
   "source": [
    "We can now search for the optimal `alpha`.  Use cross-validation to find the `alpha` logarithically space between `alpha=10^{-3}` and `alpha=10^{-4}`.  Each fit takes some time, so use only 5 values of `alpha`. Also for each `alpha` store the current matrix.  This way, you will not have to re-fit the model."
   ]
  },
  {
   "cell_type": "code",
   "execution_count": 74,
   "metadata": {
    "collapsed": true
   },
   "outputs": [],
   "source": [
    "Alpha = np.logspace(-3, -4, 5)\n",
    "Rsq_test = []\n",
    "\n",
    "for a in Alpha:\n",
    "    regr2 = Lasso(alpha = a, max_iter = 100, tol = 0.01)\n",
    "    regr2.fit(Xtr, Ytr)\n",
    "    \n",
    "    rsq_ts = r2_score(Yts, regr2.predict(Xts))\n",
    "    Rsq_test.append(rsq_ts)"
   ]
  },
  {
   "cell_type": "markdown",
   "metadata": {},
   "source": [
    "Plot the `r^2` value vs. `alpha`.  Print the optimal `r^2`.  You should see it is much higher than with the best Ridge Regression case."
   ]
  },
  {
   "cell_type": "code",
   "execution_count": 75,
   "metadata": {
    "collapsed": false
   },
   "outputs": [
    {
     "name": "stdout",
     "output_type": "stream",
     "text": [
      "Max R^2 value: 0.1782807390724237\n"
     ]
    },
    {
     "data": {
      "image/png": "[encoded data removed]",
      "text/plain": [
       "<matplotlib.figure.Figure at 0x12f9ce208>"
      ]
     },
     "metadata": {},
     "output_type": "display_data"
    }
   ],
   "source": [
    "plt.plot(Alpha, Rsq_test, 'co-')\n",
    "plt.xlabel(\"alpha value\")\n",
    "plt.ylabel(\"R^2\")\n",
    "plt.title(\"alpha v R^2\")\n",
    "plt.ylim(0, 0.5)\n",
    "plt.grid()\n",
    "# plt.xscale(\"log\")\n",
    "\n",
    "R2max = aRsq_ts[np.argmax(aRsq_ts)]\n",
    "print(\"Max R^2 value:\", str(R2max))"
   ]
  },
  {
   "cell_type": "markdown",
   "metadata": {},
   "source": [
    "Display the current matrix `W` for the optimal `alpha` as you did in the Ridge Regression case.  You will see that is much sparser."
   ]
  },
  {
   "cell_type": "code",
   "execution_count": 76,
   "metadata": {
    "collapsed": false
   },
   "outputs": [
    {
     "name": "stdout",
     "output_type": "stream",
     "text": [
      "[0.00763122 0.00293241 0.00374989 0.00614302 0.00324946 0.00241802\n",
      " 0.00677658 0.00198067 0.00288646 0.00639616 0.00308748 0.00311793\n",
      " 0.005282   0.00287227 0.00223992 0.00564224 0.00284128 0.00250962\n",
      " 0.00602254 0.00260771 0.00213092 0.00627372 0.00241992 0.00271971\n",
      " 0.00642915 0.00218765 0.00260887 0.00609888 0.00199177 0.00237453\n",
      " 0.00623999 0.00194389 0.0024537  0.00650321 0.00132936 0.00325233\n",
      " 0.00672055 0.00121758 0.00293333 0.00394864 0.00266628 0.00224619\n",
      " 0.00587686 0.00231149 0.00265617 0.00589308 0.00220476 0.00214924\n",
      " 0.00627224 0.00205613 0.00290142 0.00628494 0.00190813 0.00293563\n",
      " 0.00606068 0.00163266 0.00263346 0.00564523 0.002035   0.00305664\n",
      " 0.00585373 0.00225256 0.00295823 0.00630994 0.00276274 0.00317591\n",
      " 0.00263106 0.00314509 0.00237978 0.00477579 0.00199992 0.00165998\n",
      " 0.00493565 0.00224822 0.00224418 0.00554533 0.00182953 0.00239666\n",
      " 0.00533664 0.00160768 0.0029532  0.00593178 0.00144205 0.00283242\n",
      " 0.00303536 0.00299312 0.00215769 0.00245432 0.00291131 0.00232413\n",
      " 0.00389708 0.00218226 0.00164302 0.00480357 0.0019184  0.00176708\n",
      " 0.00501664 0.00165717 0.0031253  0.00526152 0.00208089 0.00566875\n",
      " 0.00535514 0.00144955 0.00211017 0.00619011 0.00146466 0.00229562\n",
      " 0.00309699 0.00213106 0.00167505 0.00449119 0.00347389 0.00523773\n",
      " 0.00374201 0.00179893 0.00170572 0.00362489 0.00191558 0.00162769\n",
      " 0.00479701 0.00183291 0.00206111 0.00581019 0.00333731 0.00401722\n",
      " 0.0062169  0.00336029 0.0035973  0.00719295 0.00036664 0.00224338\n",
      " 0.00266596 0.00323878 0.00251098 0.00289102 0.00319503 0.00231954\n",
      " 0.00355378 0.00305175 0.00359166 0.00280941 0.00189677 0.0015899\n",
      " 0.0036308  0.00145872 0.00228011 0.00431229 0.00166568 0.00176004\n",
      " 0.0045154  0.0012511  0.00229338 0.00485479 0.00140665 0.00189528\n",
      " 0.00481069 0.001605   0.0028453  0.00511209 0.001006   0.00199796\n",
      " 0.00603719 0.00422083 0.00513621 0.00545912 0.00073663 0.00223949\n",
      " 0.00660502 0.0022066  0.0027079  0.00565012 0.00374093 0.00210011\n",
      " 0.00297375 0.00380297 0.00296606 0.00264154 0.00239345 0.00167465\n",
      " 0.00210465 0.00239377 0.00186089 0.00214396 0.00223272 0.00160892\n",
      " 0.00249842 0.00221447 0.00238314 0.00327332 0.0014525  0.00130379\n",
      " 0.00373843 0.00141761 0.00287618 0.00399717 0.00128787 0.00156576\n",
      " 0.00415266 0.00121144]\n"
     ]
    }
   ],
   "source": [
    "W = regr.coef_\n",
    "Wrms = np.sqrt(np.sum(W**2, axis = 0))\n",
    "print(Wrms[:200])"
   ]
  },
  {
   "cell_type": "markdown",
   "metadata": {},
   "source": [
    "## More fun\n",
    "\n",
    "If you want to more on this lab:\n",
    "* Install the [MNE python package](https://martinos.org/mne/stable/index.html).  This is an amazing package with many tools for processing EEG data.\n",
    "* In particular, you can use the above results to visualize where in the brain the currents sources are.\n",
    "* You can also improve the fitting with more regularization.  For example, we know that the currents will be non-zero in groups:  If the current is non-zero for one time, it is likely to non-zero for all time.  You can use the Group LASSO method.\n",
    "* You can combine these results to make predictions about what the patient is seeing or hearing or thinking."
   ]
  },
  {
   "cell_type": "code",
   "execution_count": null,
   "metadata": {
    "collapsed": true
   },
   "outputs": [],
   "source": []
  }
 ],
 "metadata": {
  "anaconda-cloud": {},
  "kernelspec": {
   "display_name": "Python [Root]",
   "language": "python",
   "name": "Python [Root]"
  },
  "language_info": {
   "codemirror_mode": {
    "name": "ipython",
    "version": 3
   },
   "file_extension": ".py",
   "mimetype": "text/x-python",
   "name": "python",
   "nbconvert_exporter": "python",
   "pygments_lexer": "ipython3",
   "version": "3.5.2"
  }
 },
 "nbformat": 4,
 "nbformat_minor": 2
}
